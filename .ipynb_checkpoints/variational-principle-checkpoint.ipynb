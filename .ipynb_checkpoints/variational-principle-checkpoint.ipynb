{
 "cells": [
  {
   "cell_type": "markdown",
   "metadata": {},
   "source": [
    "# Variational Principle  using Symbolic Mathematics in Python "
   ]
  },
  {
   "cell_type": "markdown",
   "metadata": {},
   "source": [
    "## 1. Introduction"
   ]
  },
  {
   "cell_type": "markdown",
   "metadata": {},
   "source": [
    "The variational principle tells us that we can use a trial wavefunction to solve the Schrodinger equation using the following theorem:\n",
    "\n",
    "$${{\\int {{\\Psi ^*}\\hat H{\\rm{ }}\\Psi } d\\tau } \\over {\\int {{\\Psi ^*}\\Psi } d\\tau }} \\ge {E_0}$$\n",
    "\n",
    "We will use Sympy to solve the particle in a box problem by guessing a trial wavefunction using variational principle"
   ]
  },
  {
   "cell_type": "code",
   "execution_count": 2,
   "metadata": {},
   "outputs": [],
   "source": [
    "import sympy as sym"
   ]
  },
  {
   "cell_type": "markdown",
   "metadata": {},
   "source": [
    "This exercise is a bit more self-guided than the other notebooks we have done. One of the most useful things you can do is **open last week's notebook to remember the commands in sympy**. Also, remember that google is your friend:\n",
    "\n",
    "1. [Sympy tutorial](https://docs.sympy.org/latest/tutorial/index.html)\n",
    "2. [Stack Overflow](https://stackoverflow.com/search?q=sympy+)\n",
    "3. [Stack Exchange](https://stackexchange.com/)"
   ]
  },
  {
   "cell_type": "markdown",
   "metadata": {},
   "source": [
    "## 2. Particle in a box"
   ]
  },
  {
   "cell_type": "markdown",
   "metadata": {},
   "source": [
    "The wave function that we pick for a particle in a box needs to have the following properties\n",
    "\n",
    "1. single valued\n",
    "1. normalizable\n",
    "1. function and its first derivative are continuous \n",
    "1. boundary condition that the wave function goes to zero at the ends of the box\n",
    "\n",
    "![Particle in a box](InfiniteSquareWellAnimation.gif)\n",
    "\n",
    "Particle in a box: a is a classical particle, red is real part, blue is imaginary part."
   ]
  },
  {
   "cell_type": "markdown",
   "metadata": {},
   "source": [
    "This particle only expericnes kinetic energy between the box, so the Hamiltonian for this system is\n",
    "\n",
    "$$\\hat H = {{ - {\\hbar ^2}} \\over {2m}}{{{d^2}} \\over {d{x^2}}} + \\left\\{ {\\matrix{{V(x) = 0} & {0 < x < a}  \\cr {V(x) = \\infty } & {x < 0\\text{ }{\\rm{ or}}\\;x > a}  \\cr } } \\right.$$\n",
    "\n",
    "For our purposes, that means we can consider the Hamiltonian to be \n",
    "\n",
    "$$\\hat H = {{ - {\\hbar ^2}} \\over {2m}}{{{d^2}} \\over {d{x^2}}}$$\n",
    "\n",
    "as long as we keep the limits of integration to be $(0,a)$"
   ]
  },
  {
   "cell_type": "markdown",
   "metadata": {},
   "source": [
    "### 2.1 Trial Wave function"
   ]
  },
  {
   "cell_type": "markdown",
   "metadata": {},
   "source": [
    "Although the particle in box has a well known solution\n",
    "\n",
    "[https://en.wikipedia.org/wiki/Particle_in_a_box](https://en.wikipedia.org/wiki/Particle_in_a_box)\n",
    "\n",
    "(or check your favorite pchem book)\n",
    "\n",
    "We are going to guess a trial wave function:\n",
    "\n",
    "$$\\Phi (x) = \\left( {{x \\over a} - {{{x^3}} \\over a^3}} \\right) + \\alpha \\left( {{{{x^5}} \\over {{a^5}}} - {1 \\over 2}\\left( {{{{x^9}} \\over {{a^9}}} + {{{x^9}} \\over {{a^9}}}} \\right)} \\right)$$"
   ]
  },
  {
   "cell_type": "markdown",
   "metadata": {},
   "source": [
    "### 2.2 Exercise: Variational Theorem"
   ]
  },
  {
   "cell_type": "markdown",
   "metadata": {},
   "source": [
    "We are going to follow the following plan:\n",
    "\n",
    "1. Solve for the energy of the trial wave function above  \n",
    "\n",
    "$${E_{trial}} = {{\\int\\limits_0^a {\\Phi (x){{ - {\\hbar ^2}} \\over {2m}}{{{d^2}} \\over {d{x^2}}}\\Phi (x)dx} } \\over {\\int\\limits_0^a {\\Phi {{(x)}^2}dx} }}$$\n",
    "\n",
    "Your answer will be a function of $ m,a,\\text{and } \\alpha$ We will use $\\alpha$ as the parameter we vary to minimize the energy and make a new trial wave function.\n",
    "\n",
    "2. Minimize the trial energy \n",
    "We will use a first derivative of the trial energy $${d \\over {d\\alpha }}{E_{trial}}(\\alpha )$$ to find the value of $\\alpha$ that gives you the lowest energy\n",
    "\n",
    "\n",
    "3. Plot your new wavefunction compared to the ground state particle in a box: $${\\psi _{true}}(x) = {\\left( {{2 \\over a}} \\right)^{1/2}}\\sin {{n\\pi x} \\over a}$$ Plot as a function of $x/a$ from $0$ to $1$. Assuming this has $m=m_e$, and $a=a_0$ use atomic (theorist) units to plot the function.\n",
    "\n",
    "4. Compare your trial energy to the actual energy (using atomic units)\n",
    "$${E_{true}}(n = 1) = {{{\\hbar ^2}{\\pi ^2}} \\over {2m{a^2}}}$$\n"
   ]
  },
  {
   "cell_type": "code",
   "execution_count": 80,
   "metadata": {},
   "outputs": [
    {
     "data": {
      "image/png": "[encoded data removed]",
      "text/latex": [
       "$\\displaystyle \\frac{\\left(- 0.00655567342873843 \\alpha^{2} - 0.0293040293040293 \\alpha - 0.0761904761904761\\right) \\left(- \\frac{0.114027149321267 \\alpha^{2} \\hbar^{2} m}{a} + \\frac{3.35714285714286 \\alpha \\hbar^{2} m}{a} + \\frac{1.0 \\hbar^{2} m}{a} + \\frac{0.2 \\left(- 10.0 \\alpha \\hbar^{2} m - 3.0 \\hbar^{2} m\\right)}{a} + \\frac{0.111111111111111 \\left(- 10.0 \\alpha^{2} \\hbar^{2} m + 6.0 \\alpha \\hbar^{2} m\\right)}{a} + \\frac{0.0909090909090909 \\left(15.5 \\alpha^{2} \\hbar^{2} m - 19.5 \\alpha \\hbar^{2} m\\right)}{a}\\right)}{\\left(0.0834787503518154 a \\alpha^{2} - 0.333333333333333 a \\alpha + 0.142857142857143 a \\left(2.0 \\alpha + 1.0\\right) + 0.0769230769230769 a \\left(- 1.0 \\alpha^{2} + 1.0 \\alpha\\right) - 0.0666666666666667 a\\right)^{2}} + \\frac{\\frac{0.114027149321267 \\alpha^{2} \\hbar^{2} m}{a^{2}} - \\frac{3.35714285714286 \\alpha \\hbar^{2} m}{a^{2}} - \\frac{1.0 \\hbar^{2} m}{a^{2}} - \\frac{0.2 \\left(- 10.0 \\alpha \\hbar^{2} m - 3.0 \\hbar^{2} m\\right)}{a^{2}} - \\frac{0.111111111111111 \\left(- 10.0 \\alpha^{2} \\hbar^{2} m + 6.0 \\alpha \\hbar^{2} m\\right)}{a^{2}} - \\frac{0.0909090909090909 \\left(15.5 \\alpha^{2} \\hbar^{2} m - 19.5 \\alpha \\hbar^{2} m\\right)}{a^{2}}}{0.0834787503518154 a \\alpha^{2} - 0.333333333333333 a \\alpha + 0.142857142857143 a \\left(2.0 \\alpha + 1.0\\right) + 0.0769230769230769 a \\left(- 1.0 \\alpha^{2} + 1.0 \\alpha\\right) - 0.0666666666666667 a}$"
      ],
      "text/plain": [
       "                                                                              \n",
       "                                                                       ⎛      \n",
       "⎛                       2                                            ⎞ ⎜  0.11\n",
       "⎝- 0.00655567342873843⋅α  - 0.0293040293040293⋅α - 0.0761904761904761⎠⋅⎜- ────\n",
       "                                                                       ⎝      \n",
       "──────────────────────────────────────────────────────────────────────────────\n",
       "                                                                              \n",
       "                                                                ⎛             \n",
       "                                                                ⎝0.08347875035\n",
       "\n",
       "                                                                              \n",
       "               2   2                          2           2         ⎛         \n",
       "4027149321267⋅α ⋅h̅ ⋅m   3.35714285714286⋅α⋅h̅ ⋅m   1.0⋅h̅ ⋅m   0.2⋅⎝- 10.0⋅α⋅\n",
       "────────────────────── + ──────────────────────── + ───────── + ──────────────\n",
       "        a                           a                   a                     \n",
       "──────────────────────────────────────────────────────────────────────────────\n",
       "                                                                              \n",
       "         2                                                                    \n",
       "18154⋅a⋅α  - 0.333333333333333⋅a⋅α + 0.142857142857143⋅a⋅(2.0⋅α + 1.0) + 0.076\n",
       "\n",
       "                                                                              \n",
       "  2           2  ⎞                     ⎛        2   2             2  ⎞        \n",
       "h̅ ⋅m - 3.0⋅h̅ ⋅m⎠   0.111111111111111⋅⎝- 10.0⋅α ⋅h̅ ⋅m + 6.0⋅α⋅h̅ ⋅m⎠   0.090\n",
       "────────────────── + ───────────────────────────────────────────────── + ─────\n",
       " a                                           a                                \n",
       "──────────────────────────────────────────────────────────────────────────────\n",
       "                                                          2                   \n",
       "                ⎛       2        ⎞                       ⎞                    \n",
       "9230769230769⋅a⋅⎝- 1.0⋅α  + 1.0⋅α⎠ - 0.0666666666666667⋅a⎠                    \n",
       "\n",
       "                                                                   2   2      \n",
       "              ⎛      2   2              2  ⎞⎞   0.114027149321267⋅α ⋅h̅ ⋅m   3\n",
       "9090909090909⋅⎝15.5⋅α ⋅h̅ ⋅m - 19.5⋅α⋅h̅ ⋅m⎠⎟   ────────────────────────── - ─\n",
       "────────────────────────────────────────────⎟                2                \n",
       "                   a                        ⎠               a                 \n",
       "───────────────────────────────────────────── + ──────────────────────────────\n",
       "                                                                              \n",
       "                                                                            0.\n",
       "                                                                              \n",
       "\n",
       "                    2           2         ⎛           2           2  ⎞        \n",
       ".35714285714286⋅α⋅h̅ ⋅m   1.0⋅h̅ ⋅m   0.2⋅⎝- 10.0⋅α⋅h̅ ⋅m - 3.0⋅h̅ ⋅m⎠   0.111\n",
       "─────────────────────── - ───────── - ──────────────────────────────── - ─────\n",
       "           2                   2                      2                       \n",
       "          a                   a                      a                        \n",
       "──────────────────────────────────────────────────────────────────────────────\n",
       "                    2                                                         \n",
       "0834787503518154⋅a⋅α  - 0.333333333333333⋅a⋅α + 0.142857142857143⋅a⋅(2.0⋅α + 1\n",
       "                                                                              \n",
       "\n",
       "             ⎛        2   2             2  ⎞                      ⎛      2   2\n",
       "111111111111⋅⎝- 10.0⋅α ⋅h̅ ⋅m + 6.0⋅α⋅h̅ ⋅m⎠   0.0909090909090909⋅⎝15.5⋅α ⋅h̅ \n",
       "──────────────────────────────────────────── - ───────────────────────────────\n",
       "                    2                                                   2     \n",
       "                   a                                                   a      \n",
       "──────────────────────────────────────────────────────────────────────────────\n",
       "                           ⎛       2        ⎞                                 \n",
       ".0) + 0.0769230769230769⋅a⋅⎝- 1.0⋅α  + 1.0⋅α⎠ - 0.0666666666666667⋅a          \n",
       "                                                                              \n",
       "\n",
       "              2  ⎞\n",
       "⋅m - 19.5⋅α⋅h̅ ⋅m⎠\n",
       "──────────────────\n",
       "                  \n",
       "                  \n",
       "──────────────────\n",
       "                  \n",
       "                  \n",
       "                  "
      ]
     },
     "execution_count": 80,
     "metadata": {},
     "output_type": "execute_result"
    }
   ],
   "source": [
    "# Your code here\n",
    "# 1)\n",
    "\n",
    "import sympy as sym\n",
    "from sympy import init_printing\n",
    "from sympy import *\n",
    "from sympy.physics.units import gravitational_constant, hbar\n",
    "\n",
    "x, a, m = symbols(\"x, a, m\")\n",
    "alpha, hbar = symbols(\"alpha, hbar\")\n",
    "Phi = symbols('Phi')\n",
    "\n",
    "Phi = ((x/a)-(x**3/a**3))+alpha*((x**5/a**5)-((1/2)*((x**7/a**7)+(x**9/a**9))))\n",
    "\n",
    "expr_num = Phi*(-hbar**2/2*m)*sym.diff(sym.diff(Phi, x), x)\n",
    "expr_den = Phi**2\n",
    "expr_num_int = sym.integrate(expr_num, (x, 0, a))\n",
    "expr_den_int = sym.integrate(expr_den, (x, 0, a))\n",
    "\n",
    "expr_Etrial = expr_num_int/expr_den_int\n",
    "expr_Etrial\n",
    "\n",
    "# 2)\n",
    "\n",
    "min_Etrial = sym.diff(expr_Etrial, a)\n",
    "min_Etrial\n",
    "\n",
    "# 3\n",
    "\n"
   ]
  },
  {
   "cell_type": "markdown",
   "metadata": {},
   "source": [
    "Your descriptions/explanations here"
   ]
  },
  {
   "cell_type": "markdown",
   "metadata": {},
   "source": [
    "### 2.3 Exercise: New trial wavefunction"
   ]
  },
  {
   "cell_type": "markdown",
   "metadata": {},
   "source": [
    "Determine the minimum energy of the particle in a box using a new trial wavefunction $$x^\\alpha(x-a)^\\alpha$$\n",
    "\n",
    "1. Find the minimum energy, $E_{trial}$\n",
    "2. Plot the new trial wavefunction and compare it to the true solution and the wavefunction you found above\n",
    "3. Compare you new energy to the trial energy you found above\n",
    "4. Which wavefunction is better? How do you know?"
   ]
  },
  {
   "cell_type": "code",
   "execution_count": 4,
   "metadata": {},
   "outputs": [],
   "source": [
    "# Your code here"
   ]
  },
  {
   "cell_type": "markdown",
   "metadata": {},
   "source": [
    "Your descriptions/explanations here"
   ]
  },
  {
   "cell_type": "markdown",
   "metadata": {},
   "source": [
    "### 2.4 Exercise: Design your own wavefunction!"
   ]
  },
  {
   "cell_type": "markdown",
   "metadata": {},
   "source": [
    "**Now you get to make your own wavefunction!**\n",
    "\n",
    "The only guidance I would give you is that it make sense mathematically and that it include $\\alpha$ so that you can minimize the energy.\n",
    "\n",
    "Remember that $a$ and $x$ are both length units, and that trigonometric, logarithmic, and exponential functions are all unitless  \n",
    "\n",
    "\n",
    "Using your new wavefunction:\n",
    "\n",
    "1. Find the minimum energy, $E_{trial}$\n",
    "2. Plot the new trial wavefunction and compare it to the true solution and the wavefunction you found above\n",
    "3. Compare you new energy to the trial energy you found above\n",
    "4. Which wavefunction is better? How do you know?"
   ]
  },
  {
   "cell_type": "code",
   "execution_count": 8,
   "metadata": {},
   "outputs": [
    {
     "ename": "SyntaxError",
     "evalue": "invalid syntax (<ipython-input-8-24498c81c98d>, line 3)",
     "output_type": "error",
     "traceback": [
      "\u001b[0;36m  File \u001b[0;32m\"<ipython-input-8-24498c81c98d>\"\u001b[0;36m, line \u001b[0;32m3\u001b[0m\n\u001b[0;31m    $$\\Phi (x) = \\left( {{x \\over a} - {{{x^3}} \\over a^3}} \\right) + \\alpha \\left( {{{{x^5}} \\over {{a^5}}} - {1 \\over 2}\\left( {{{{x^9}} \\over {{a^9}}} + {{{x^9}} \\over {{a^9}}}} \\right)} \\right)$$\u001b[0m\n\u001b[0m    ^\u001b[0m\n\u001b[0;31mSyntaxError\u001b[0m\u001b[0;31m:\u001b[0m invalid syntax\n"
     ]
    }
   ],
   "source": [
    "# Your code here\n",
    "import sympy as sym\n",
    "\n",
    "\n",
    "\n",
    "\n",
    "\n",
    "\n",
    "\n",
    "\n"
   ]
  },
  {
   "cell_type": "markdown",
   "metadata": {},
   "source": [
    "Your descriptions/explanations here"
   ]
  },
  {
   "cell_type": "markdown",
   "metadata": {},
   "source": [
    "# Reading Homework"
   ]
  },
  {
   "cell_type": "markdown",
   "metadata": {},
   "source": [
    "Read the following sections in Kramer\n",
    "\n",
    "- 4.2.3 Born-Oppenheimer approximation\n",
    "- 4.3.2 Secular equation\n",
    "- All of 4.5\n",
    "\n",
    "For each subsection\n",
    "- write down the subchapter name\n",
    "- what was the most important idea\n",
    "- draw an idea digram of the main idea\n",
    "\n",
    "**Make sure to upload this to the assignment repository**\n",
    "\n",
    "Example idea diagram:\n",
    "![Particle in a box](idea_map.png)"
   ]
  },
  {
   "cell_type": "code",
   "execution_count": 91,
   "metadata": {},
   "outputs": [
    {
     "data": {
      "text/plain": [
       "True"
      ]
     },
     "execution_count": 91,
     "metadata": {},
     "output_type": "execute_result"
    }
   ],
   "source": [
    "import sympy as sym\n",
    "sym.init_printing()\n",
    "tau = sym.symbols(\"tau\") \n",
    "sa_conj, ca_conj = sym.symbols(\"1s_a^*, c_a^*\")\n",
    "sa, ca, sb, cb = sym.symbols(\"1s_a, c_a, 1s_b, c_b\")\n",
    "Hel = sym.symbols(\"H_el\")\n",
    "Haa, Hbb, Hab, Hba  = sym.symbols(\"H_aa, H_bb, H_ab, H_ba\")\n",
    "\n",
    "Haa = sym.integrate(sa_conj*Hel*sa, tau)\n",
    "Hbb = sym.integrate(sb_conj*Hel*sb, tau)\n",
    "Hab = sym.integrate(sa_conj*Hel*sb, tau)\n",
    "Hba = sym.integrate(sb_conj*Hel*sa, tau)\n",
    "\n"
   ]
  },
  {
   "cell_type": "code",
   "execution_count": 109,
   "metadata": {
    "scrolled": true
   },
   "outputs": [
    {
     "data": {
      "image/png": "[encoded data removed]",
      "text/latex": [
       "$\\displaystyle \\left[ \\frac{- H_{aa} + H_{ab} S_{ba} + H_{ba} S_{ab} - H_{bb} - \\sqrt{H_{aa}^{2} - 2 H_{aa} H_{ab} S_{ba} - 2 H_{aa} H_{ba} S_{ab} + 4 H_{aa} H_{bb} S_{ab} S_{ba} - 2 H_{aa} H_{bb} + H_{ab}^{2} S_{ba}^{2} - 2 H_{ab} H_{ba} S_{ab} S_{ba} + 4 H_{ab} H_{ba} - 2 H_{ab} H_{bb} S_{ba} + H_{ba}^{2} S_{ab}^{2} - 2 H_{ba} H_{bb} S_{ab} + H_{bb}^{2}}}{2 \\left(S_{ab} S_{ba} - 1\\right)}, \\  \\frac{- H_{aa} + H_{ab} S_{ba} + H_{ba} S_{ab} - H_{bb} + \\sqrt{H_{aa}^{2} - 2 H_{aa} H_{ab} S_{ba} - 2 H_{aa} H_{ba} S_{ab} + 4 H_{aa} H_{bb} S_{ab} S_{ba} - 2 H_{aa} H_{bb} + H_{ab}^{2} S_{ba}^{2} - 2 H_{ab} H_{ba} S_{ab} S_{ba} + 4 H_{ab} H_{ba} - 2 H_{ab} H_{bb} S_{ba} + H_{ba}^{2} S_{ab}^{2} - 2 H_{ba} H_{bb} S_{ab} + H_{bb}^{2}}}{2 \\left(S_{ab} S_{ba} - 1\\right)}\\right]$"
      ],
      "text/plain": [
       "⎡                                         ____________________________________\n",
       "⎢                                        ╱    2                               \n",
       "⎢-Hₐₐ + H_ab⋅S_ba + H_ba⋅S_ab - H_bb - ╲╱  Hₐₐ  - 2⋅Hₐₐ⋅H_ab⋅S_ba - 2⋅Hₐₐ⋅H_ba\n",
       "⎢─────────────────────────────────────────────────────────────────────────────\n",
       "⎣                                                                             \n",
       "\n",
       "______________________________________________________________________________\n",
       "                                                2     2                       \n",
       "⋅S_ab + 4⋅Hₐₐ⋅H_bb⋅S_ab⋅S_ba - 2⋅Hₐₐ⋅H_bb + H_ab ⋅S_ba  - 2⋅H_ab⋅H_ba⋅S_ab⋅S_b\n",
       "──────────────────────────────────────────────────────────────────────────────\n",
       "                              2⋅(S_ab⋅S_ba - 1)                               \n",
       "\n",
       "____________________________________________________________________________  \n",
       "                                         2     2                          2   \n",
       "a + 4⋅H_ab⋅H_ba - 2⋅H_ab⋅H_bb⋅S_ba + H_ba ⋅S_ab  - 2⋅H_ba⋅H_bb⋅S_ab + H_bb    \n",
       "────────────────────────────────────────────────────────────────────────────, \n",
       "                                                                              \n",
       "\n",
       "                                         _____________________________________\n",
       "                                        ╱    2                                \n",
       "-Hₐₐ + H_ab⋅S_ba + H_ba⋅S_ab - H_bb + ╲╱  Hₐₐ  - 2⋅Hₐₐ⋅H_ab⋅S_ba - 2⋅Hₐₐ⋅H_ba⋅\n",
       "──────────────────────────────────────────────────────────────────────────────\n",
       "                                                                              \n",
       "\n",
       "______________________________________________________________________________\n",
       "                                               2     2                        \n",
       "S_ab + 4⋅Hₐₐ⋅H_bb⋅S_ab⋅S_ba - 2⋅Hₐₐ⋅H_bb + H_ab ⋅S_ba  - 2⋅H_ab⋅H_ba⋅S_ab⋅S_ba\n",
       "──────────────────────────────────────────────────────────────────────────────\n",
       "                             2⋅(S_ab⋅S_ba - 1)                                \n",
       "\n",
       "___________________________________________________________________________⎤\n",
       "                                        2     2                          2 ⎥\n",
       " + 4⋅H_ab⋅H_ba - 2⋅H_ab⋅H_bb⋅S_ba + H_ba ⋅S_ab  - 2⋅H_ba⋅H_bb⋅S_ab + H_bb  ⎥\n",
       "───────────────────────────────────────────────────────────────────────────⎥\n",
       "                                                                           ⎦"
      ]
     },
     "execution_count": 109,
     "metadata": {},
     "output_type": "execute_result"
    }
   ],
   "source": [
    "import sympy as sym\n",
    "from sympy.solvers import solve\n",
    "E = sym.symbols('E')\n",
    "tau = sym.symbols(\"tau\") \n",
    "sa_conj, ca_conj = sym.symbols(\"1s_a^*, c_a^*\")\n",
    "sa, ca, sb, cb = sym.symbols(\"1s_a, c_a, 1s_b, c_b\")\n",
    "Haa, Hbb, Hab, Hba, Sab, Sba = sym.symbols('H_aa, H_bb, H_ab, H_ba, S_ab, S_ba')\n",
    "\n",
    "\n",
    "expr_E = solve(Haa*Hbb-Haa*E-Hbb*E+E**2-Hab*Hba+Hab*E*Sba+Hba*E*Sab-E*Sab*E*Sba, E)\n",
    "En = expr_E\n",
    "En"
   ]
  },
  {
   "cell_type": "code",
   "execution_count": 110,
   "metadata": {},
   "outputs": [
    {
     "ename": "TypeError",
     "evalue": "unsupported operand type(s) for -: 'Symbol' and 'list'",
     "output_type": "error",
     "traceback": [
      "\u001b[0;31m---------------------------------------------------------------------------\u001b[0m",
      "\u001b[0;31mTypeError\u001b[0m                                 Traceback (most recent call last)",
      "\u001b[0;32m<ipython-input-110-9135e020ac9a>\u001b[0m in \u001b[0;36m<module>\u001b[0;34m\u001b[0m\n\u001b[0;32m----> 1\u001b[0;31m \u001b[0msolve\u001b[0m\u001b[0;34m(\u001b[0m\u001b[0;34m(\u001b[0m\u001b[0mHaa\u001b[0m\u001b[0;34m-\u001b[0m\u001b[0mEn\u001b[0m\u001b[0;34m)\u001b[0m\u001b[0;34m*\u001b[0m\u001b[0mca\u001b[0m\u001b[0;34m+\u001b[0m\u001b[0;34m(\u001b[0m\u001b[0mHab\u001b[0m\u001b[0;34m-\u001b[0m\u001b[0mEn\u001b[0m\u001b[0;34m*\u001b[0m\u001b[0mSab\u001b[0m\u001b[0;34m)\u001b[0m\u001b[0;34m*\u001b[0m\u001b[0mcb\u001b[0m\u001b[0;34m,\u001b[0m \u001b[0mca\u001b[0m\u001b[0;34m)\u001b[0m\u001b[0;34m\u001b[0m\u001b[0;34m\u001b[0m\u001b[0m\n\u001b[0m",
      "\u001b[0;31mTypeError\u001b[0m: unsupported operand type(s) for -: 'Symbol' and 'list'"
     ]
    }
   ],
   "source": []
  },
  {
   "cell_type": "code",
   "execution_count": null,
   "metadata": {},
   "outputs": [],
   "source": []
  }
 ],
 "metadata": {
  "kernelspec": {
   "display_name": "Python 3",
   "language": "python",
   "name": "python3"
  },
  "language_info": {
   "codemirror_mode": {
    "name": "ipython",
    "version": 3
   },
   "file_extension": ".py",
   "mimetype": "text/x-python",
   "name": "python",
   "nbconvert_exporter": "python",
   "pygments_lexer": "ipython3",
   "version": "3.7.3"
  }
 },
 "nbformat": 4,
 "nbformat_minor": 2
}
